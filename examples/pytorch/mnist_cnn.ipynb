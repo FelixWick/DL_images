{
 "cells": [
  {
   "cell_type": "code",
   "execution_count": 1,
   "metadata": {},
   "outputs": [],
   "source": [
    "import torch\n",
    "from torchvision import datasets, transforms\n",
    "from torcheval.metrics import MulticlassAccuracy\n",
    "import numpy as np"
   ]
  },
  {
   "cell_type": "code",
   "execution_count": 2,
   "metadata": {},
   "outputs": [
    {
     "data": {
      "text/plain": [
       "device(type='cuda', index=0)"
      ]
     },
     "execution_count": 2,
     "metadata": {},
     "output_type": "execute_result"
    }
   ],
   "source": [
    "if torch.cuda.is_available():\n",
    "    dev = \"cuda:0\"\n",
    "else:\n",
    "    dev = \"cpu\"\n",
    "device = torch.device(dev)\n",
    "device"
   ]
  },
  {
   "cell_type": "code",
   "execution_count": 3,
   "metadata": {},
   "outputs": [],
   "source": [
    "transform = transforms.Compose([transforms.ToTensor()])\n",
    "mnist_pytorch = datasets.MNIST(root='./data', train=True, download=True, transform=transform)"
   ]
  },
  {
   "cell_type": "code",
   "execution_count": 4,
   "metadata": {},
   "outputs": [],
   "source": [
    "target_tensor = torch.nn.functional.one_hot(mnist_pytorch.targets).to(dtype=torch.float32).to(device)"
   ]
  },
  {
   "cell_type": "markdown",
   "metadata": {},
   "source": [
    "need to add channel dimension"
   ]
  },
  {
   "cell_type": "code",
   "execution_count": 5,
   "metadata": {},
   "outputs": [],
   "source": [
    "input_tensor = mnist_pytorch.data.to(dtype=torch.float32).unsqueeze(1).to(device)"
   ]
  },
  {
   "cell_type": "code",
   "execution_count": 6,
   "metadata": {},
   "outputs": [],
   "source": [
    "input_ds = torch.utils.data.TensorDataset(input_tensor, target_tensor)"
   ]
  },
  {
   "cell_type": "code",
   "execution_count": 7,
   "metadata": {},
   "outputs": [],
   "source": [
    "train_ds, test_ds = torch.utils.data.random_split(input_ds, [0.8, 0.2])\n",
    "train_ds, val_ds = torch.utils.data.random_split(train_ds, [0.9, 0.1])"
   ]
  },
  {
   "cell_type": "code",
   "execution_count": 8,
   "metadata": {},
   "outputs": [],
   "source": [
    "mini_batch_size = 512\n",
    "\n",
    "train_dl = torch.utils.data.DataLoader(train_ds, batch_size=mini_batch_size, shuffle=True, drop_last=False)\n",
    "valid_dl = torch.utils.data.DataLoader(val_ds, batch_size=mini_batch_size * 2)"
   ]
  },
  {
   "cell_type": "code",
   "execution_count": 9,
   "metadata": {},
   "outputs": [],
   "source": [
    "class CNN(torch.nn.Module):\n",
    "    def __init__(self):\n",
    "        super().__init__()\n",
    "\n",
    "        self.cnn = torch.nn.Sequential(\n",
    "            torch.nn.Conv2d(in_channels=1, out_channels=10, kernel_size=5, padding=2),\n",
    "            torch.nn.BatchNorm2d(10),\n",
    "            torch.nn.ReLU(),\n",
    "            torch.nn.MaxPool2d(2, stride=2),\n",
    "            torch.nn.Conv2d(in_channels=10, out_channels=25, kernel_size=5),\n",
    "            torch.nn.BatchNorm2d(25),\n",
    "            torch.nn.ReLU(),\n",
    "            torch.nn.Conv2d(in_channels=25, out_channels=40, kernel_size=3, padding=1),\n",
    "            torch.nn.BatchNorm2d(40),\n",
    "            torch.nn.ReLU(),\n",
    "            torch.nn.Conv2d(in_channels=40, out_channels=30, kernel_size=3, padding=1),\n",
    "            torch.nn.BatchNorm2d(30),\n",
    "            torch.nn.ReLU(),\n",
    "            torch.nn.MaxPool2d(2, stride=2),\n",
    "            torch.nn.Flatten(),\n",
    "            torch.nn.Linear(750, 300),\n",
    "            torch.nn.ReLU(),\n",
    "            torch.nn.Dropout(0.4),\n",
    "            torch.nn.Linear(300, 100),\n",
    "            torch.nn.ReLU(),\n",
    "            torch.nn.Dropout(0.4),\n",
    "            torch.nn.Linear(100, 10)\n",
    "        )\n",
    "\n",
    "        # historical architecture\n",
    "        self.LeNet = torch.nn.Sequential(\n",
    "            torch.nn.Conv2d(in_channels=1, out_channels=6, kernel_size=5, padding=2),\n",
    "            torch.nn.Sigmoid(),\n",
    "            torch.nn.AvgPool2d(2, stride=2),\n",
    "            torch.nn.Conv2d(in_channels=6, out_channels=16, kernel_size=5),\n",
    "            torch.nn.Sigmoid(),\n",
    "            torch.nn.AvgPool2d(2, stride=2),\n",
    "            torch.nn.Flatten(),\n",
    "            torch.nn.Linear(400, 120),\n",
    "            torch.nn.Sigmoid(),\n",
    "            torch.nn.Linear(120, 84),\n",
    "            torch.nn.Sigmoid(),\n",
    "            torch.nn.Linear(84, 10)\n",
    "        )\n",
    "\n",
    "    def forward(self, X):\n",
    "        X = self.cnn(X)\n",
    "        # X = self.LeNet(X)\n",
    "        return X"
   ]
  },
  {
   "cell_type": "code",
   "execution_count": 10,
   "metadata": {},
   "outputs": [],
   "source": [
    "model = CNN().to(device)\n",
    "optimizer = torch.optim.Adam(model.parameters())"
   ]
  },
  {
   "cell_type": "markdown",
   "metadata": {},
   "source": [
    "number of trainable model parameters"
   ]
  },
  {
   "cell_type": "code",
   "execution_count": 11,
   "metadata": {},
   "outputs": [
    {
     "data": {
      "text/plain": [
       "344731"
      ]
     },
     "execution_count": 11,
     "metadata": {},
     "output_type": "execute_result"
    }
   ],
   "source": [
    "sum(p.numel() for p in model.parameters() if p.requires_grad)"
   ]
  },
  {
   "cell_type": "code",
   "execution_count": 12,
   "metadata": {},
   "outputs": [],
   "source": [
    "class EarlyStopping:\n",
    "    def __init__(self, patience=5, delta=0):\n",
    "        self.patience = patience\n",
    "        self.delta = delta\n",
    "        self.best_score = None\n",
    "        self.early_stop = False\n",
    "        self.counter = 0\n",
    "        self.best_model_state = None\n",
    "\n",
    "    def __call__(self, val_loss, model):\n",
    "        score = -val_loss\n",
    "        if self.best_score is None:\n",
    "            self.best_score = score\n",
    "            self.best_model_state = model.state_dict()\n",
    "        elif score < self.best_score + self.delta:\n",
    "            self.counter += 1\n",
    "            if self.counter >= self.patience:\n",
    "                self.early_stop = True\n",
    "        else:\n",
    "            self.best_score = score\n",
    "            self.best_model_state = model.state_dict()\n",
    "            self.counter = 0\n",
    "\n",
    "    def load_best_model(self, model):\n",
    "        model.load_state_dict(self.best_model_state)"
   ]
  },
  {
   "cell_type": "code",
   "execution_count": 13,
   "metadata": {},
   "outputs": [],
   "source": [
    "early_stopping = EarlyStopping(patience=5, delta=0.01)"
   ]
  },
  {
   "cell_type": "code",
   "execution_count": 14,
   "metadata": {},
   "outputs": [],
   "source": [
    "def fit(epochs, model, optimizer, train_dl, valid_dl=None):\n",
    "    loss_func = torch.nn.CrossEntropyLoss()\n",
    "\n",
    "    # loop over epochs\n",
    "    for epoch in range(epochs):\n",
    "        model.train()\n",
    "\n",
    "        # loop over mini-batches\n",
    "        for X_mb, y_mb in train_dl:\n",
    "            y_hat = model(X_mb)\n",
    "\n",
    "            loss = loss_func(y_hat, y_mb)\n",
    "            loss.backward()\n",
    "\n",
    "            optimizer.step()\n",
    "            optimizer.zero_grad()\n",
    "\n",
    "        model.eval()\n",
    "        with torch.no_grad():\n",
    "            train_loss = sum(loss_func(model(X_mb), y_mb) for X_mb, y_mb in train_dl)\n",
    "            valid_loss = sum(loss_func(model(X_mb), y_mb) for X_mb, y_mb in valid_dl)\n",
    "        print('epoch {}, training loss {}'.format(epoch + 1, train_loss / len(train_dl)))\n",
    "        print('epoch {}, validation loss {}'.format(epoch + 1, valid_loss / len(valid_dl)))\n",
    "\n",
    "        early_stopping(valid_loss, model)\n",
    "        if early_stopping.early_stop:\n",
    "            print(\"Early stopping\")\n",
    "            break\n",
    "\n",
    "    print('Finished training')\n",
    "\n",
    "    return model"
   ]
  },
  {
   "cell_type": "code",
   "execution_count": 15,
   "metadata": {},
   "outputs": [
    {
     "name": "stdout",
     "output_type": "stream",
     "text": [
      "epoch 1, training loss 0.06688742339611053\n",
      "epoch 1, validation loss 0.07452839612960815\n",
      "epoch 2, training loss 0.039183855056762695\n",
      "epoch 2, validation loss 0.05412019044160843\n",
      "epoch 3, training loss 0.04167329519987106\n",
      "epoch 3, validation loss 0.0640040710568428\n",
      "epoch 4, training loss 0.02674599550664425\n",
      "epoch 4, validation loss 0.04119248315691948\n",
      "epoch 5, training loss 0.021828999742865562\n",
      "epoch 5, validation loss 0.043792903423309326\n",
      "epoch 6, training loss 0.02477993443608284\n",
      "epoch 6, validation loss 0.047204531729221344\n",
      "epoch 7, training loss 0.014193478040397167\n",
      "epoch 7, validation loss 0.04048856720328331\n",
      "epoch 8, training loss 0.010915343649685383\n",
      "epoch 8, validation loss 0.03449602052569389\n",
      "epoch 9, training loss 0.009004905819892883\n",
      "epoch 9, validation loss 0.03168097883462906\n",
      "epoch 10, training loss 0.011030924506485462\n",
      "epoch 10, validation loss 0.033881377428770065\n",
      "epoch 11, training loss 0.012234250083565712\n",
      "epoch 11, validation loss 0.04153953120112419\n",
      "epoch 12, training loss 0.008233006112277508\n",
      "epoch 12, validation loss 0.04208587482571602\n",
      "epoch 13, training loss 0.009735303930938244\n",
      "epoch 13, validation loss 0.04660648852586746\n",
      "epoch 14, training loss 0.005404746625572443\n",
      "epoch 14, validation loss 0.030104180797934532\n",
      "Early stopping\n",
      "Finished training\n"
     ]
    },
    {
     "data": {
      "text/plain": [
       "CNN(\n",
       "  (cnn): Sequential(\n",
       "    (0): Conv2d(1, 10, kernel_size=(5, 5), stride=(1, 1), padding=(2, 2))\n",
       "    (1): BatchNorm2d(10, eps=1e-05, momentum=0.1, affine=True, track_running_stats=True)\n",
       "    (2): ReLU()\n",
       "    (3): MaxPool2d(kernel_size=2, stride=2, padding=0, dilation=1, ceil_mode=False)\n",
       "    (4): Conv2d(10, 25, kernel_size=(5, 5), stride=(1, 1))\n",
       "    (5): BatchNorm2d(25, eps=1e-05, momentum=0.1, affine=True, track_running_stats=True)\n",
       "    (6): ReLU()\n",
       "    (7): Conv2d(25, 40, kernel_size=(3, 3), stride=(1, 1), padding=(1, 1))\n",
       "    (8): BatchNorm2d(40, eps=1e-05, momentum=0.1, affine=True, track_running_stats=True)\n",
       "    (9): ReLU()\n",
       "    (10): Conv2d(40, 30, kernel_size=(3, 3), stride=(1, 1), padding=(1, 1))\n",
       "    (11): BatchNorm2d(30, eps=1e-05, momentum=0.1, affine=True, track_running_stats=True)\n",
       "    (12): ReLU()\n",
       "    (13): MaxPool2d(kernel_size=2, stride=2, padding=0, dilation=1, ceil_mode=False)\n",
       "    (14): Flatten(start_dim=1, end_dim=-1)\n",
       "    (15): Linear(in_features=750, out_features=300, bias=True)\n",
       "    (16): ReLU()\n",
       "    (17): Dropout(p=0.4, inplace=False)\n",
       "    (18): Linear(in_features=300, out_features=100, bias=True)\n",
       "    (19): ReLU()\n",
       "    (20): Dropout(p=0.4, inplace=False)\n",
       "    (21): Linear(in_features=100, out_features=10, bias=True)\n",
       "  )\n",
       "  (LeNet): Sequential(\n",
       "    (0): Conv2d(1, 6, kernel_size=(5, 5), stride=(1, 1), padding=(2, 2))\n",
       "    (1): Sigmoid()\n",
       "    (2): AvgPool2d(kernel_size=2, stride=2, padding=0)\n",
       "    (3): Conv2d(6, 16, kernel_size=(5, 5), stride=(1, 1))\n",
       "    (4): Sigmoid()\n",
       "    (5): AvgPool2d(kernel_size=2, stride=2, padding=0)\n",
       "    (6): Flatten(start_dim=1, end_dim=-1)\n",
       "    (7): Linear(in_features=400, out_features=120, bias=True)\n",
       "    (8): Sigmoid()\n",
       "    (9): Linear(in_features=120, out_features=84, bias=True)\n",
       "    (10): Sigmoid()\n",
       "    (11): Linear(in_features=84, out_features=10, bias=True)\n",
       "  )\n",
       ")"
      ]
     },
     "execution_count": 15,
     "metadata": {},
     "output_type": "execute_result"
    }
   ],
   "source": [
    "epochs = 50\n",
    "\n",
    "fit(epochs, model, optimizer, train_dl, valid_dl)"
   ]
  },
  {
   "cell_type": "code",
   "execution_count": 16,
   "metadata": {},
   "outputs": [],
   "source": [
    "early_stopping.load_best_model(model)"
   ]
  },
  {
   "cell_type": "code",
   "execution_count": 17,
   "metadata": {},
   "outputs": [],
   "source": [
    "def evaluation(ds, model):\n",
    "    with torch.no_grad():\n",
    "        preds = model(ds[:][0]).cpu()\n",
    "\n",
    "    # take output node with highest probability\n",
    "    yhat = np.argmax(preds, axis=1)\n",
    "    y = ds[:][1].cpu()\n",
    "\n",
    "    # from one-hot back to labels\n",
    "    y = torch.argmax(y, dim=1)\n",
    "\n",
    "    metric = MulticlassAccuracy()\n",
    "\n",
    "    metric.update(yhat, y)\n",
    "    return metric.compute()"
   ]
  },
  {
   "cell_type": "code",
   "execution_count": 18,
   "metadata": {},
   "outputs": [
    {
     "data": {
      "text/plain": [
       "tensor(0.9982)"
      ]
     },
     "execution_count": 18,
     "metadata": {},
     "output_type": "execute_result"
    }
   ],
   "source": [
    "evaluation(train_ds, model)"
   ]
  },
  {
   "cell_type": "code",
   "execution_count": 19,
   "metadata": {},
   "outputs": [
    {
     "data": {
      "text/plain": [
       "tensor(0.9925)"
      ]
     },
     "execution_count": 19,
     "metadata": {},
     "output_type": "execute_result"
    }
   ],
   "source": [
    "evaluation(test_ds, model)"
   ]
  }
 ],
 "metadata": {
  "kernelspec": {
   "display_name": ".venv",
   "language": "python",
   "name": "python3"
  },
  "language_info": {
   "codemirror_mode": {
    "name": "ipython",
    "version": 3
   },
   "file_extension": ".py",
   "mimetype": "text/x-python",
   "name": "python",
   "nbconvert_exporter": "python",
   "pygments_lexer": "ipython3",
   "version": "3.10.11"
  }
 },
 "nbformat": 4,
 "nbformat_minor": 2
}
