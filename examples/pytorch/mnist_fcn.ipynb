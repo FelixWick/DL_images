{
 "cells": [
  {
   "cell_type": "markdown",
   "metadata": {},
   "source": [
    "A fully-connected neural network does a pretty good job here, because the spatial structure of the images is fairly simple."
   ]
  },
  {
   "cell_type": "markdown",
   "metadata": {},
   "source": [
    "pytorch on CPU"
   ]
  },
  {
   "cell_type": "code",
   "execution_count": 1,
   "metadata": {},
   "outputs": [
    {
     "name": "stdout",
     "output_type": "stream",
     "text": [
      "Requirement already satisfied: torch in c:\\users\\wick\\computer_vision\\.venv\\lib\\site-packages (2.6.0)\n",
      "Requirement already satisfied: torchvision in c:\\users\\wick\\computer_vision\\.venv\\lib\\site-packages (0.21.0)\n",
      "Requirement already satisfied: filelock in c:\\users\\wick\\computer_vision\\.venv\\lib\\site-packages (from torch) (3.18.0)\n",
      "Requirement already satisfied: typing-extensions>=4.10.0 in c:\\users\\wick\\computer_vision\\.venv\\lib\\site-packages (from torch) (4.13.0)\n",
      "Requirement already satisfied: networkx in c:\\users\\wick\\computer_vision\\.venv\\lib\\site-packages (from torch) (3.4.2)\n",
      "Requirement already satisfied: jinja2 in c:\\users\\wick\\computer_vision\\.venv\\lib\\site-packages (from torch) (3.1.6)\n",
      "Requirement already satisfied: fsspec in c:\\users\\wick\\computer_vision\\.venv\\lib\\site-packages (from torch) (2025.3.0)\n",
      "Requirement already satisfied: setuptools in c:\\users\\wick\\computer_vision\\.venv\\lib\\site-packages (from torch) (78.1.0)\n",
      "Requirement already satisfied: sympy==1.13.1 in c:\\users\\wick\\computer_vision\\.venv\\lib\\site-packages (from torch) (1.13.1)\n",
      "Requirement already satisfied: mpmath<1.4,>=1.1.0 in c:\\users\\wick\\computer_vision\\.venv\\lib\\site-packages (from sympy==1.13.1->torch) (1.3.0)\n",
      "Requirement already satisfied: numpy in c:\\users\\wick\\computer_vision\\.venv\\lib\\site-packages (from torchvision) (2.2.4)\n",
      "Requirement already satisfied: pillow!=8.3.*,>=5.3.0 in c:\\users\\wick\\computer_vision\\.venv\\lib\\site-packages (from torchvision) (11.1.0)\n",
      "Requirement already satisfied: MarkupSafe>=2.0 in c:\\users\\wick\\computer_vision\\.venv\\lib\\site-packages (from jinja2->torch) (3.0.2)\n"
     ]
    }
   ],
   "source": [
    "! pip install torch torchvision"
   ]
  },
  {
   "cell_type": "markdown",
   "metadata": {},
   "source": [
    "pytorch on GPU"
   ]
  },
  {
   "cell_type": "markdown",
   "metadata": {},
   "source": [
    "need for an older numpy version to use with the old pytorch version below (which is needed for GPU usage on my machine)"
   ]
  },
  {
   "cell_type": "code",
   "execution_count": 2,
   "metadata": {},
   "outputs": [],
   "source": [
    "# ! pip install numpy==1.26.4"
   ]
  },
  {
   "cell_type": "markdown",
   "metadata": {},
   "source": [
    "to use your GPU via CUDA:\n",
    "- run the command nvidia-smi on terminal to find out your CUDA version, e.g., 11.6\n",
    "- install the corresponding pytorch wheel (check here: https://pytorch.org/get-started/previous-versions/)\n",
    "- need for a fitting python version (3.10 in my case)"
   ]
  },
  {
   "cell_type": "code",
   "execution_count": 3,
   "metadata": {},
   "outputs": [],
   "source": [
    "# ! pip install torch==1.13.1+cu116 torchvision==0.14.1+cu116 --extra-index-url https://download.pytorch.org/whl/cu116"
   ]
  },
  {
   "cell_type": "code",
   "execution_count": 4,
   "metadata": {},
   "outputs": [
    {
     "name": "stdout",
     "output_type": "stream",
     "text": [
      "Requirement already satisfied: matplotlib in c:\\users\\wick\\computer_vision\\.venv\\lib\\site-packages (3.10.1)\n",
      "Requirement already satisfied: contourpy>=1.0.1 in c:\\users\\wick\\computer_vision\\.venv\\lib\\site-packages (from matplotlib) (1.3.1)\n",
      "Requirement already satisfied: cycler>=0.10 in c:\\users\\wick\\computer_vision\\.venv\\lib\\site-packages (from matplotlib) (0.12.1)\n",
      "Requirement already satisfied: fonttools>=4.22.0 in c:\\users\\wick\\computer_vision\\.venv\\lib\\site-packages (from matplotlib) (4.56.0)\n",
      "Requirement already satisfied: kiwisolver>=1.3.1 in c:\\users\\wick\\computer_vision\\.venv\\lib\\site-packages (from matplotlib) (1.4.8)\n",
      "Requirement already satisfied: numpy>=1.23 in c:\\users\\wick\\computer_vision\\.venv\\lib\\site-packages (from matplotlib) (2.2.4)\n",
      "Requirement already satisfied: packaging>=20.0 in c:\\users\\wick\\computer_vision\\.venv\\lib\\site-packages (from matplotlib) (24.2)\n",
      "Requirement already satisfied: pillow>=8 in c:\\users\\wick\\computer_vision\\.venv\\lib\\site-packages (from matplotlib) (11.1.0)\n",
      "Requirement already satisfied: pyparsing>=2.3.1 in c:\\users\\wick\\computer_vision\\.venv\\lib\\site-packages (from matplotlib) (3.2.3)\n",
      "Requirement already satisfied: python-dateutil>=2.7 in c:\\users\\wick\\computer_vision\\.venv\\lib\\site-packages (from matplotlib) (2.9.0.post0)\n",
      "Requirement already satisfied: six>=1.5 in c:\\users\\wick\\computer_vision\\.venv\\lib\\site-packages (from python-dateutil>=2.7->matplotlib) (1.17.0)\n",
      "Requirement already satisfied: torcheval in c:\\users\\wick\\computer_vision\\.venv\\lib\\site-packages (0.0.7)\n",
      "Requirement already satisfied: typing-extensions in c:\\users\\wick\\computer_vision\\.venv\\lib\\site-packages (from torcheval) (4.13.0)\n"
     ]
    }
   ],
   "source": [
    "! pip install matplotlib\n",
    "! pip install torcheval"
   ]
  },
  {
   "cell_type": "code",
   "execution_count": 5,
   "metadata": {},
   "outputs": [],
   "source": [
    "import torch\n",
    "from torchvision import datasets, transforms\n",
    "from torcheval.metrics import MulticlassAccuracy\n",
    "import numpy as np\n",
    "import matplotlib.pyplot as plt"
   ]
  },
  {
   "cell_type": "markdown",
   "metadata": {},
   "source": [
    "check for GPU and use it if available"
   ]
  },
  {
   "cell_type": "code",
   "execution_count": 6,
   "metadata": {},
   "outputs": [
    {
     "data": {
      "text/plain": [
       "device(type='cpu')"
      ]
     },
     "execution_count": 6,
     "metadata": {},
     "output_type": "execute_result"
    }
   ],
   "source": [
    "if torch.cuda.is_available():\n",
    "    dev = \"cuda:0\"\n",
    "else:\n",
    "    dev = \"cpu\"\n",
    "device = torch.device(dev)\n",
    "device"
   ]
  },
  {
   "cell_type": "code",
   "execution_count": 7,
   "metadata": {},
   "outputs": [
    {
     "data": {
      "text/plain": [
       "Dataset MNIST\n",
       "    Number of datapoints: 60000\n",
       "    Root location: ./data\n",
       "    Split: Train\n",
       "    StandardTransform\n",
       "Transform: Compose(\n",
       "               ToTensor()\n",
       "           )"
      ]
     },
     "execution_count": 7,
     "metadata": {},
     "output_type": "execute_result"
    }
   ],
   "source": [
    "transform = transforms.Compose([transforms.ToTensor()])\n",
    "\n",
    "mnist_pytorch = datasets.MNIST(root='./data', train=True, download=True, transform=transform)\n",
    "\n",
    "mnist_pytorch"
   ]
  },
  {
   "cell_type": "code",
   "execution_count": 8,
   "metadata": {},
   "outputs": [
    {
     "data": {
      "text/plain": [
       "torch.Size([60000, 28, 28])"
      ]
     },
     "execution_count": 8,
     "metadata": {},
     "output_type": "execute_result"
    }
   ],
   "source": [
    "mnist_pytorch.data.shape"
   ]
  },
  {
   "cell_type": "code",
   "execution_count": 9,
   "metadata": {},
   "outputs": [
    {
     "data": {
      "text/plain": [
       "<matplotlib.image.AxesImage at 0x1cdcbb592b0>"
      ]
     },
     "execution_count": 9,
     "metadata": {},
     "output_type": "execute_result"
    },
    {
     "data": {
      "image/png": "[encoded data removed]",
      "text/plain": [
       "<Figure size 640x480 with 1 Axes>"
      ]
     },
     "metadata": {},
     "output_type": "display_data"
    }
   ],
   "source": [
    "plt.imshow(mnist_pytorch.data[0], cmap='gray', vmin=0, vmax=255)"
   ]
  },
  {
   "cell_type": "code",
   "execution_count": 10,
   "metadata": {},
   "outputs": [
    {
     "data": {
      "text/plain": [
       "tensor([5, 0, 4,  ..., 5, 6, 8])"
      ]
     },
     "execution_count": 10,
     "metadata": {},
     "output_type": "execute_result"
    }
   ],
   "source": [
    "mnist_pytorch.targets"
   ]
  },
  {
   "cell_type": "markdown",
   "metadata": {},
   "source": [
    "convert to one-hot targets for multi-classification"
   ]
  },
  {
   "cell_type": "code",
   "execution_count": 11,
   "metadata": {},
   "outputs": [
    {
     "data": {
      "text/plain": [
       "tensor([[0., 0., 0.,  ..., 0., 0., 0.],\n",
       "        [1., 0., 0.,  ..., 0., 0., 0.],\n",
       "        [0., 0., 0.,  ..., 0., 0., 0.],\n",
       "        ...,\n",
       "        [0., 0., 0.,  ..., 0., 0., 0.],\n",
       "        [0., 0., 0.,  ..., 0., 0., 0.],\n",
       "        [0., 0., 0.,  ..., 0., 1., 0.]])"
      ]
     },
     "execution_count": 11,
     "metadata": {},
     "output_type": "execute_result"
    }
   ],
   "source": [
    "target_tensor = torch.nn.functional.one_hot(mnist_pytorch.targets).to(dtype=torch.float32).to(device)\n",
    "target_tensor"
   ]
  },
  {
   "cell_type": "markdown",
   "metadata": {},
   "source": [
    "need to flatten 2D structure of image for fully-connected neural network"
   ]
  },
  {
   "cell_type": "code",
   "execution_count": 12,
   "metadata": {},
   "outputs": [],
   "source": [
    "input_tensor = torch.flatten(mnist_pytorch.data, start_dim=1).to(dtype=torch.float32).to(device)"
   ]
  },
  {
   "cell_type": "code",
   "execution_count": 13,
   "metadata": {},
   "outputs": [],
   "source": [
    "input_ds = torch.utils.data.TensorDataset(input_tensor, target_tensor)"
   ]
  },
  {
   "cell_type": "markdown",
   "metadata": {},
   "source": [
    "split data in training and test sets"
   ]
  },
  {
   "cell_type": "code",
   "execution_count": 14,
   "metadata": {},
   "outputs": [],
   "source": [
    "train_ds, test_ds = torch.utils.data.random_split(input_ds, [0.8, 0.2])"
   ]
  },
  {
   "cell_type": "markdown",
   "metadata": {},
   "source": [
    "further split training set in training and validation sets"
   ]
  },
  {
   "cell_type": "code",
   "execution_count": 15,
   "metadata": {},
   "outputs": [],
   "source": [
    "train_ds, val_ds = torch.utils.data.random_split(train_ds, [0.9, 0.1])"
   ]
  },
  {
   "cell_type": "code",
   "execution_count": 16,
   "metadata": {},
   "outputs": [],
   "source": [
    "mini_batch_size = 512\n",
    "\n",
    "train_dl = torch.utils.data.DataLoader(train_ds, batch_size=mini_batch_size, shuffle=True, drop_last=False)\n",
    "valid_dl = torch.utils.data.DataLoader(val_ds, batch_size=mini_batch_size * 2)"
   ]
  },
  {
   "cell_type": "code",
   "execution_count": 17,
   "metadata": {},
   "outputs": [],
   "source": [
    "class FCN(torch.nn.Module):\n",
    "    def __init__(self):\n",
    "        super().__init__()\n",
    "\n",
    "        self.fcn = torch.nn.Sequential(\n",
    "            torch.nn.Linear(784, 500),\n",
    "            torch.nn.ReLU(),\n",
    "            torch.nn.Linear(500, 300),\n",
    "            torch.nn.ReLU(),\n",
    "            torch.nn.Linear(300, 100),\n",
    "            torch.nn.ReLU(),\n",
    "            torch.nn.Linear(100, 10)\n",
    "        )\n",
    "\n",
    "    def forward(self, X):\n",
    "        X = self.fcn(X)\n",
    "        return X"
   ]
  },
  {
   "cell_type": "code",
   "execution_count": 18,
   "metadata": {},
   "outputs": [],
   "source": [
    "model = FCN().to(device)\n",
    "optimizer = torch.optim.Adam(model.parameters())"
   ]
  },
  {
   "cell_type": "code",
   "execution_count": 19,
   "metadata": {},
   "outputs": [],
   "source": [
    "def fit(epochs, model, optimizer, train_dl, valid_dl=None):\n",
    "    loss_func = torch.nn.CrossEntropyLoss()\n",
    "\n",
    "    # loop over epochs\n",
    "    for epoch in range(epochs):\n",
    "        model.train()\n",
    "\n",
    "        # loop over mini-batches\n",
    "        for X_mb, y_mb in train_dl:\n",
    "            y_hat = model(X_mb)\n",
    "\n",
    "            loss = loss_func(y_hat, y_mb)\n",
    "            loss.backward()\n",
    "\n",
    "            optimizer.step()\n",
    "            optimizer.zero_grad()\n",
    "\n",
    "        model.eval()\n",
    "        with torch.no_grad():\n",
    "            train_loss = sum(loss_func(model(X_mb), y_mb) for X_mb, y_mb in train_dl)\n",
    "            valid_loss = sum(loss_func(model(X_mb), y_mb) for X_mb, y_mb in valid_dl)\n",
    "        print('epoch {}, training loss {}'.format(epoch + 1, train_loss / len(train_dl)))\n",
    "        print('epoch {}, validation loss {}'.format(epoch + 1, valid_loss / len(valid_dl)))\n",
    "\n",
    "    print('Finished training')\n",
    "\n",
    "    return model"
   ]
  },
  {
   "cell_type": "code",
   "execution_count": 20,
   "metadata": {},
   "outputs": [
    {
     "name": "stdout",
     "output_type": "stream",
     "text": [
      "epoch 1, training loss 0.1528824269771576\n",
      "epoch 1, validation loss 0.19657738506793976\n",
      "epoch 2, training loss 0.08492693305015564\n",
      "epoch 2, validation loss 0.13951745629310608\n",
      "epoch 3, training loss 0.05417836084961891\n",
      "epoch 3, validation loss 0.13203993439674377\n",
      "epoch 4, training loss 0.05051407963037491\n",
      "epoch 4, validation loss 0.12554514408111572\n",
      "epoch 5, training loss 0.019923536106944084\n",
      "epoch 5, validation loss 0.11361279338598251\n",
      "epoch 6, training loss 0.02703625150024891\n",
      "epoch 6, validation loss 0.13683342933654785\n",
      "epoch 7, training loss 0.020661544054746628\n",
      "epoch 7, validation loss 0.13842910528182983\n",
      "epoch 8, training loss 0.016069643199443817\n",
      "epoch 8, validation loss 0.1416979879140854\n",
      "epoch 9, training loss 0.010608822107315063\n",
      "epoch 9, validation loss 0.12390214204788208\n",
      "epoch 10, training loss 0.02728930674493313\n",
      "epoch 10, validation loss 0.14342045783996582\n",
      "epoch 11, training loss 0.015288816764950752\n",
      "epoch 11, validation loss 0.14558497071266174\n",
      "epoch 12, training loss 0.009871878661215305\n",
      "epoch 12, validation loss 0.13877809047698975\n",
      "epoch 13, training loss 0.02239047735929489\n",
      "epoch 13, validation loss 0.16578097641468048\n",
      "epoch 14, training loss 0.01573558896780014\n",
      "epoch 14, validation loss 0.17035111784934998\n",
      "epoch 15, training loss 0.009462584741413593\n",
      "epoch 15, validation loss 0.14005711674690247\n",
      "epoch 16, training loss 0.004479545168578625\n",
      "epoch 16, validation loss 0.14020642638206482\n",
      "epoch 17, training loss 0.017388591542840004\n",
      "epoch 17, validation loss 0.15141040086746216\n",
      "epoch 18, training loss 0.028391370549798012\n",
      "epoch 18, validation loss 0.19606786966323853\n",
      "epoch 19, training loss 0.018159741535782814\n",
      "epoch 19, validation loss 0.17520584166049957\n",
      "epoch 20, training loss 0.013790502212941647\n",
      "epoch 20, validation loss 0.168882817029953\n",
      "epoch 21, training loss 0.012807322666049004\n",
      "epoch 21, validation loss 0.17426545917987823\n",
      "epoch 22, training loss 0.009601139463484287\n",
      "epoch 22, validation loss 0.17246678471565247\n",
      "epoch 23, training loss 0.011826775036752224\n",
      "epoch 23, validation loss 0.1659420281648636\n",
      "epoch 24, training loss 0.011707265861332417\n",
      "epoch 24, validation loss 0.1763955056667328\n",
      "epoch 25, training loss 0.007606420665979385\n",
      "epoch 25, validation loss 0.1440572291612625\n",
      "epoch 26, training loss 0.008517452515661716\n",
      "epoch 26, validation loss 0.15802857279777527\n",
      "epoch 27, training loss 0.011047376319766045\n",
      "epoch 27, validation loss 0.1557684689760208\n",
      "epoch 28, training loss 0.009797249920666218\n",
      "epoch 28, validation loss 0.17143428325653076\n",
      "epoch 29, training loss 0.029898494482040405\n",
      "epoch 29, validation loss 0.1891474425792694\n",
      "epoch 30, training loss 0.006069202441722155\n",
      "epoch 30, validation loss 0.1641317754983902\n",
      "epoch 31, training loss 0.0010730831418186426\n",
      "epoch 31, validation loss 0.15866199135780334\n",
      "epoch 32, training loss 0.003991259727627039\n",
      "epoch 32, validation loss 0.17998261749744415\n",
      "epoch 33, training loss 0.005267792381346226\n",
      "epoch 33, validation loss 0.18138304352760315\n",
      "epoch 34, training loss 0.01451493613421917\n",
      "epoch 34, validation loss 0.20676422119140625\n",
      "epoch 35, training loss 0.008230192586779594\n",
      "epoch 35, validation loss 0.19062677025794983\n",
      "epoch 36, training loss 0.006436209660023451\n",
      "epoch 36, validation loss 0.18965812027454376\n",
      "epoch 37, training loss 0.006380816921591759\n",
      "epoch 37, validation loss 0.2028837949037552\n",
      "epoch 38, training loss 0.011546260677278042\n",
      "epoch 38, validation loss 0.207286074757576\n",
      "epoch 39, training loss 0.013230809010565281\n",
      "epoch 39, validation loss 0.22234642505645752\n",
      "epoch 40, training loss 0.010627103969454765\n",
      "epoch 40, validation loss 0.1836644411087036\n",
      "epoch 41, training loss 0.008389383554458618\n",
      "epoch 41, validation loss 0.1921987235546112\n",
      "epoch 42, training loss 0.013297763653099537\n",
      "epoch 42, validation loss 0.20990470051765442\n",
      "epoch 43, training loss 0.008023642934858799\n",
      "epoch 43, validation loss 0.21488146483898163\n",
      "epoch 44, training loss 0.004335473757237196\n",
      "epoch 44, validation loss 0.19903966784477234\n",
      "epoch 45, training loss 0.009145321324467659\n",
      "epoch 45, validation loss 0.22101791203022003\n",
      "epoch 46, training loss 0.003098352812230587\n",
      "epoch 46, validation loss 0.18932515382766724\n",
      "epoch 47, training loss 0.01186209823936224\n",
      "epoch 47, validation loss 0.24969275295734406\n",
      "epoch 48, training loss 0.010190834291279316\n",
      "epoch 48, validation loss 0.21158352494239807\n",
      "epoch 49, training loss 0.005404177587479353\n",
      "epoch 49, validation loss 0.1777687817811966\n",
      "epoch 50, training loss 0.019346436485648155\n",
      "epoch 50, validation loss 0.24743671715259552\n",
      "Finished training\n"
     ]
    }
   ],
   "source": [
    "epochs = 50\n",
    "\n",
    "trained_model = fit(epochs, model, optimizer, train_dl, valid_dl)"
   ]
  },
  {
   "cell_type": "code",
   "execution_count": 21,
   "metadata": {},
   "outputs": [],
   "source": [
    "def evaluation(ds, model):\n",
    "    with torch.no_grad():\n",
    "        preds = model(ds[:][0]).cpu()\n",
    "\n",
    "    # take output node with highest probability\n",
    "    yhat = np.argmax(preds, axis=1)\n",
    "    y = ds[:][1].cpu()\n",
    "\n",
    "    # from one-hot back to labels\n",
    "    y = torch.argmax(y, dim=1)\n",
    "\n",
    "    metric = MulticlassAccuracy()\n",
    "\n",
    "    metric.update(yhat, y)\n",
    "    return metric.compute()"
   ]
  },
  {
   "cell_type": "code",
   "execution_count": 22,
   "metadata": {},
   "outputs": [
    {
     "data": {
      "text/plain": [
       "tensor(0.9951)"
      ]
     },
     "execution_count": 22,
     "metadata": {},
     "output_type": "execute_result"
    }
   ],
   "source": [
    "evaluation(train_ds, trained_model)"
   ]
  },
  {
   "cell_type": "code",
   "execution_count": 23,
   "metadata": {},
   "outputs": [
    {
     "data": {
      "text/plain": [
       "tensor(0.9714)"
      ]
     },
     "execution_count": 23,
     "metadata": {},
     "output_type": "execute_result"
    }
   ],
   "source": [
    "evaluation(test_ds, trained_model)"
   ]
  }
 ],
 "metadata": {
  "kernelspec": {
   "display_name": ".venv",
   "language": "python",
   "name": "python3"
  },
  "language_info": {
   "codemirror_mode": {
    "name": "ipython",
    "version": 3
   },
   "file_extension": ".py",
   "mimetype": "text/x-python",
   "name": "python",
   "nbconvert_exporter": "python",
   "pygments_lexer": "ipython3",
   "version": "3.13.2"
  }
 },
 "nbformat": 4,
 "nbformat_minor": 2
}
